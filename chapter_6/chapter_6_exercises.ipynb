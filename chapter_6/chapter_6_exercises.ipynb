{
 "cells": [
  {
   "cell_type": "markdown",
   "metadata": {},
   "source": [
    "# The chapter 6 exercises \n",
    "\n",
    "This only contains the exercises that require code to be solved"
   ]
  },
  {
   "cell_type": "code",
   "execution_count": 33,
   "metadata": {
    "collapsed": true
   },
   "outputs": [],
   "source": [
    "%matplotlib inline\n",
    "from sklearn.datasets import make_moons\n",
    "from sklearn.model_selection import train_test_split, GridSearchCV\n",
    "from sklearn.tree import DecisionTreeClassifier\n",
    "from sklearn.metrics import confusion_matrix\n",
    "\n",
    "import matplotlib.pyplot as plt\n",
    "import numpy as np\n",
    "import itertools\n",
    "from statistics import mode, StatisticsError\n",
    "from tqdm import tqdm_notebook as tqdm\n",
    "from random import random, choice"
   ]
  },
  {
   "cell_type": "markdown",
   "metadata": {},
   "source": [
    "## Question 7"
   ]
  },
  {
   "cell_type": "code",
   "execution_count": 51,
   "metadata": {
    "collapsed": true
   },
   "outputs": [],
   "source": [
    "N_SAMPLES = 10000\n",
    "NOISE = 0.4\n",
    "TEST_SIZE = 0.2\n",
    "RANDOM_STATE = 42\n",
    "N_ROWS_PER_SUBSET = 100\n",
    "N_SUBSETS = 1000"
   ]
  },
  {
   "cell_type": "code",
   "execution_count": 52,
   "metadata": {
    "collapsed": true
   },
   "outputs": [],
   "source": [
    "def plot_confusion_matrix(cm, classes,\n",
    "                          normalize=False,\n",
    "                          title='Confusion matrix',\n",
    "                          cmap=plt.cm.Blues):\n",
    "    \"\"\"\n",
    "    This function prints and plots the confusion matrix.\n",
    "    Normalization can be applied by setting `normalize=True`.\n",
    "    \"\"\"\n",
    "    if normalize:\n",
    "        cm = cm.astype('float') / cm.sum(axis=1)[:, np.newaxis]\n",
    "        print(\"Normalized confusion matrix\")\n",
    "    else:\n",
    "        print('Confusion matrix, without normalization')\n",
    "\n",
    "    plt.imshow(cm, interpolation='nearest', cmap=cmap)\n",
    "    plt.title(title)\n",
    "    plt.colorbar()\n",
    "    tick_marks = np.arange(len(classes))\n",
    "    plt.xticks(tick_marks, classes, rotation=45)\n",
    "    plt.yticks(tick_marks, classes)\n",
    "\n",
    "    fmt = '.2f' if normalize else 'd'\n",
    "    thresh = cm.max() / 2.\n",
    "    for i, j in itertools.product(range(cm.shape[0]), range(cm.shape[1])):\n",
    "        plt.text(j, i, format(cm[i, j], fmt),\n",
    "                 horizontalalignment=\"center\",\n",
    "                 color=\"white\" if cm[i, j] > thresh else \"black\")\n",
    "\n",
    "    plt.tight_layout()\n",
    "    plt.ylabel('True label')\n",
    "    plt.xlabel('Predicted label')"
   ]
  },
  {
   "cell_type": "code",
   "execution_count": 53,
   "metadata": {
    "collapsed": true
   },
   "outputs": [],
   "source": [
    "X, y = make_moons(n_samples=N_SAMPLES, noise=NOISE)"
   ]
  },
  {
   "cell_type": "code",
   "execution_count": 54,
   "metadata": {
    "collapsed": true
   },
   "outputs": [],
   "source": [
    "X_train, X_test, y_train, y_test = train_test_split(X, \n",
    "                                                    y, \n",
    "                                                    test_size=TEST_SIZE, \n",
    "                                                    random_state=RANDOM_STATE)"
   ]
  },
  {
   "cell_type": "code",
   "execution_count": 55,
   "metadata": {},
   "outputs": [
    {
     "name": "stdout",
     "output_type": "stream",
     "text": [
      "Normalized confusion matrix\n",
      "The accuracy is: 0.845\n"
     ]
    },
    {
     "data": {
      "image/png": "[encoded data removed]",
      "text/plain": [
       "<matplotlib.figure.Figure at 0x7fcadc87b550>"
      ]
     },
     "metadata": {},
     "output_type": "display_data"
    }
   ],
   "source": [
    "param_grid = {\n",
    "    'max_leaf_nodes': [None, 2, 4, 6], \n",
    "    'max_depth': [None, 1, 3 ,5],\n",
    "    'min_samples_leaf': [1, 3, 5, 7]\n",
    "}\n",
    "\n",
    "dtc = DecisionTreeClassifier()\n",
    "clf = GridSearchCV(dtc, param_grid, scoring='accuracy')\n",
    "\n",
    "clf.fit(X_train, y_train)\n",
    "\n",
    "predictions = clf.predict(X_test)\n",
    "cnf_mat = confusion_matrix(y_test, predictions)\n",
    "\n",
    "plot_confusion_matrix(cnf_mat, classes=np.unique(y_train), normalize=True)\n",
    "old_accuracy = sum(np.diag(cnf_mat)) / sum(cnf_mat.flatten())\n",
    "\n",
    "print('The accuracy is: {0:.3f}'.format(old_accuaracy))"
   ]
  },
  {
   "cell_type": "markdown",
   "metadata": {},
   "source": [
    "## Question 8"
   ]
  },
  {
   "cell_type": "code",
   "execution_count": 56,
   "metadata": {
    "collapsed": true
   },
   "outputs": [],
   "source": [
    "data = np.empty(shape=(N_SUBSETS, N_ROWS_PER_SUBSET, X.shape[1]))\n",
    "labels = np.empty(shape=(N_SUBSETS, N_ROWS_PER_SUBSET))\n",
    "data_with_labels = np.hstack((X_train, y_train.reshape(-1, 1)))\n",
    "\n",
    "for i in range(N_SUBSETS):\n",
    "    selected_values = data_with_labels[np.random.choice(data_with_labels.shape[0], N_ROWS_PER_SUBSET, replace=False)]\n",
    "    selected_first_feature, selected_second_feature, selected_labels = selected_values.T \n",
    "    selected_features = np.vstack((selected_first_feature, selected_second_feature)).T\n",
    "    \n",
    "    data[i, :, :] = selected_features\n",
    "    labels[i, :] = selected_labels\n",
    "    "
   ]
  },
  {
   "cell_type": "code",
   "execution_count": 57,
   "metadata": {},
   "outputs": [
    {
     "data": {
      "application/vnd.jupyter.widget-view+json": {
       "model_id": "a014370a5914482da24761581cb64f1f",
       "version_major": 2,
       "version_minor": 0
      },
      "text/plain": [
       "A Jupyter Widget"
      ]
     },
     "metadata": {},
     "output_type": "display_data"
    },
    {
     "name": "stdout",
     "output_type": "stream",
     "text": [
      "\n",
      "The mean accuracy is: 0.81\n"
     ]
    }
   ],
   "source": [
    "accuracies = []\n",
    "classifiers = []\n",
    "\n",
    "for row_index in tqdm(range(data.shape[0])):\n",
    "    row_values = data[row_index, :, :]\n",
    "    label_values = labels[row_index, :]\n",
    "    \n",
    "    param_grid = {\n",
    "        'max_leaf_nodes': [None, 2, 4, 6], \n",
    "        'max_depth': [None, 1, 3 ,5],\n",
    "        'min_samples_leaf': [1, 3, 5, 7]\n",
    "    }\n",
    "\n",
    "    dtc = DecisionTreeClassifier()\n",
    "    clf = GridSearchCV(dtc, param_grid, scoring='accuracy')\n",
    "\n",
    "    clf.fit(row_values, label_values)\n",
    "    classifiers.append(clf)\n",
    "    predictions = clf.predict(X_test)\n",
    "    \n",
    "    cnf_mat = confusion_matrix(y_test, predictions)\n",
    "    accuracy = round(sum(np.diag(cnf_mat)) / sum(cnf_mat.flatten()), 2)\n",
    "    \n",
    "    accuracies.append(accuracy)\n",
    "    \n",
    "mean_accuracy = np.mean(np.array(accuracies))\n",
    "print('The mean accuracy is: {0:.2f}'.format(mean_accuracy))\n"
   ]
  },
  {
   "cell_type": "code",
   "execution_count": 59,
   "metadata": {},
   "outputs": [
    {
     "data": {
      "application/vnd.jupyter.widget-view+json": {
       "model_id": "ba4c55dee6f347a29db9b1de54bbc200",
       "version_major": 2,
       "version_minor": 0
      },
      "text/plain": [
       "A Jupyter Widget"
      ]
     },
     "metadata": {},
     "output_type": "display_data"
    },
    {
     "name": "stdout",
     "output_type": "stream",
     "text": [
      "\n",
      "The new accuracy is: 0.854\n"
     ]
    }
   ],
   "source": [
    "all_mode_predictions = []\n",
    "\n",
    "for test_row_index in tqdm(range(X_test.shape[0])):\n",
    "    test_row_values = X_test[test_row_index, :].reshape(1, -1)\n",
    "    test_row_label = y_test[test_row_index].reshape(1,)\n",
    "    predictions = []\n",
    "    \n",
    "    for classifier in classifiers:\n",
    "        prediction = classifier.predict(test_row_values)[0]\n",
    "        predictions.append(prediction)\n",
    "    \n",
    "    try:\n",
    "        mode_prediction = mode(predictions)\n",
    "    except StatisticsError as err:\n",
    "        mode_prediction = choice(list(set(predictions)))\n",
    "    \n",
    "    all_mode_predictions.append(mode_prediction)\n",
    "\n",
    "cnf_mat = confusion_matrix(y_test, np.array(all_mode_predictions))\n",
    "new_accuracy = sum(np.diag(cnf_mat)) / sum(cnf_mat.flatten())\n",
    "print('The new accuracy is: {0:.3f}'.format(new_accuracy))"
   ]
  },
  {
   "cell_type": "code",
   "execution_count": 63,
   "metadata": {},
   "outputs": [
    {
     "name": "stdout",
     "output_type": "stream",
     "text": [
      "Accuracy improvement: 0.85%\n"
     ]
    }
   ],
   "source": [
    "accuracy_improvement = new_accuracy - old_accuracy\n",
    "print('Accuracy improvement: {0:.2f}%'.format(accuracy_improvement * 100))"
   ]
  },
  {
   "cell_type": "code",
   "execution_count": null,
   "metadata": {
    "collapsed": true
   },
   "outputs": [],
   "source": []
  }
 ],
 "metadata": {
  "kernelspec": {
   "display_name": "Python 3",
   "language": "python",
   "name": "python3"
  },
  "language_info": {
   "codemirror_mode": {
    "name": "ipython",
    "version": 3
   },
   "file_extension": ".py",
   "mimetype": "text/x-python",
   "name": "python",
   "nbconvert_exporter": "python",
   "pygments_lexer": "ipython3",
   "version": "3.6.3"
  }
 },
 "nbformat": 4,
 "nbformat_minor": 2
}
